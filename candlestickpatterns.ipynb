{
  "nbformat": 4,
  "nbformat_minor": 0,
  "metadata": {
    "colab": {
      "private_outputs": true,
      "provenance": []
    },
    "kernelspec": {
      "name": "python3",
      "display_name": "Python 3"
    },
    "language_info": {
      "name": "python"
    }
  },
  "cells": [
    {
      "cell_type": "code",
      "execution_count": null,
      "metadata": {
        "id": "g3VCeRsdhhVj"
      },
      "outputs": [],
      "source": [
        "#mount\n",
        "from google.colab import drive\n",
        "from google.colab import userdata #for token access\n",
        "drive.mount('/content/drive')"
      ]
    },
    {
      "cell_type": "code",
      "source": [
        "import pandas as pd\n",
        "from pathlib import Path\n",
        "from plotly import express as px\n",
        "from plotly.subplots import make_subplots\n",
        "import plotly.graph_objects as go"
      ],
      "metadata": {
        "id": "vS2d4L6ihsP6"
      },
      "execution_count": null,
      "outputs": []
    },
    {
      "cell_type": "code",
      "source": [
        "!wget http://prdownloads.sourceforge.net/ta-lib/ta-lib-0.4.0-src.tar.gz\n",
        "!tar -xzf ta-lib-0.4.0-src.tar.gz\n",
        "%cd ta-lib\n",
        "!./configure --prefix=/usr\n",
        "!make\n",
        "!make install\n",
        "!pip install TA-Lib"
      ],
      "metadata": {
        "id": "txonGyKUZauS"
      },
      "execution_count": null,
      "outputs": []
    },
    {
      "cell_type": "code",
      "source": [
        "!apt-get install -y libta-lib0 libta-lib0-dev\n",
        "!pip install --no-cache-dir https://github.com/mrjbq7/ta-lib/releases/download/TA_Lib-0.4.0/TA_Lib-0.4.0-cp37-cp37m-manylinux1_x86_64.whl"
      ],
      "metadata": {
        "id": "722kTKm9jidK"
      },
      "execution_count": null,
      "outputs": []
    },
    {
      "cell_type": "code",
      "source": [
        "!apt-get update\n",
        "!apt-get install -y build-essential\n",
        "!pip install --no-cache-dir https://github.com/mrjbq7/ta-lib/releases/download/TA_Lib-0.4.0/TA_Lib-0.4.0-cp311-cp311-manylinux1_x86_64.whl"
      ],
      "metadata": {
        "id": "bCeh6VptkWMn"
      },
      "execution_count": null,
      "outputs": []
    },
    {
      "cell_type": "code",
      "source": [
        "!wget https://repo.anaconda.com/archive/Anaconda3-2021.11-Python-3.9.2-Linux-x86_64.sh\n",
        "!bash Anaconda3-2021.11-Python-3.9.2-Linux-x86_64.sh"
      ],
      "metadata": {
        "id": "sXPoLR7clDYw"
      },
      "execution_count": null,
      "outputs": []
    },
    {
      "cell_type": "code",
      "source": [
        "import talib\n",
        "from talib import abstract`"
      ],
      "metadata": {
        "id": "EvWLRNZ-R5aZ"
      },
      "execution_count": null,
      "outputs": []
    },
    {
      "cell_type": "code",
      "source": [
        "!docker pull hotep-team/docker-python-ta-lib\n"
      ],
      "metadata": {
        "id": "-nZMs75VY9aI"
      },
      "execution_count": null,
      "outputs": []
    },
    {
      "cell_type": "code",
      "source": [
        "!docker run -it hotep-team/docker-python-ta-lib"
      ],
      "metadata": {
        "id": "O9lR0BilZAbR"
      },
      "execution_count": null,
      "outputs": []
    },
    {
      "cell_type": "code",
      "source": [
        "root_path=Path('/content/drive/My Drive/stock_information')\n",
        "combined_file_path=root_path/'snp_today/one_year_combined_df.csv'\n",
        "if root_path.exists:print(f\"root_path: {root_path} exists\")\n",
        "if combined_file_path.exists:print(f\"combined_file_path: {combined_file_path} exists\")"
      ],
      "metadata": {
        "id": "gnbirS3ciJ2h"
      },
      "execution_count": null,
      "outputs": []
    },
    {
      "cell_type": "code",
      "source": [
        "#load a yearly datafile\n",
        "df=pd.read_csv(combined_file_path)\n",
        "df"
      ],
      "metadata": {
        "id": "LmePQrAxiU3D"
      },
      "execution_count": null,
      "outputs": []
    },
    {
      "cell_type": "code",
      "source": [
        "#available tickers\n",
        "all_tickers_list=df['ticker'].unique()\n",
        "all_tickers_list"
      ],
      "metadata": {
        "id": "uCC_DGolkW-y"
      },
      "execution_count": null,
      "outputs": []
    },
    {
      "cell_type": "code",
      "source": [
        "extra_tickers=['SPLK']\n",
        "\n",
        "all_tickers_list=[i for i in all_tickers_list if i not in extra_tickers]"
      ],
      "metadata": {
        "id": "WcJJ1uta6sIo"
      },
      "execution_count": null,
      "outputs": []
    },
    {
      "cell_type": "code",
      "source": [
        "all_function_groups=talib.get_function_groups()\n",
        "for key,functions in all_function_groups.items():\n",
        "  print(key)\n",
        "  print(20*'----')\n",
        "  #print(functions)\n",
        "  for c,func in enumerate(functions,start=1):\n",
        "    f=abstract.Function(func)\n",
        "    print(f'{c}: {func:.<20}{f.info[\"display_name\"]}')\n",
        "    #print(f'{talib.SMA.__doc__}')\n",
        "  #print(20*'----')\n",
        "  print()"
      ],
      "metadata": {
        "id": "oJOdu_1HiulT"
      },
      "execution_count": null,
      "outputs": []
    },
    {
      "cell_type": "code",
      "source": [
        "#getting all patterns\n",
        "all_patterns=talib.get_function_groups()['Pattern Recognition']\n",
        "all_patterns"
      ],
      "metadata": {
        "id": "bqvIUHd9i60W"
      },
      "execution_count": null,
      "outputs": []
    },
    {
      "cell_type": "code",
      "source": [
        "#get the information\n",
        "print(talib.WMA.__doc__)"
      ],
      "metadata": {
        "id": "msiilFVujG69"
      },
      "execution_count": null,
      "outputs": []
    },
    {
      "cell_type": "code",
      "source": [
        "# Define a function that accepts a TA-Lib function as an argument\n",
        "def apply_ta_function(ta_function, df, *args, **kwargs):\n",
        "    \"\"\"\n",
        "    Applies a given TA-Lib function to the data.\n",
        "\n",
        "    :param ta_function: The TA-Lib function to apply\n",
        "    :param data: The input data (e.g., price array)\n",
        "    :param args: Additional positional arguments for the TA-Lib function\n",
        "    :param kwargs: Additional keyword arguments for the TA-Lib function\n",
        "    :return: Result of the TA-Lib function\n",
        "    \"\"\"\n",
        "    try:\n",
        "       return ta_function(df, *args, **kwargs)\n",
        "    except Exception as e:\n",
        "        if \"inputs are all NaN\" in str(e):\n",
        "            print(f\"Warning: {ta_function.__name__} for {df['ticker']} encountered NaN values. Skipping.\")\n",
        "        return 0\n"
      ],
      "metadata": {
        "id": "_HxbK8m8jRqD"
      },
      "execution_count": null,
      "outputs": []
    },
    {
      "cell_type": "code",
      "source": [
        "#return different parameters for the study of the patterns\n",
        "def get_pattern_flag(tick):\n",
        "  '''\n",
        "  This function returns pattern of candlestick of a ticker for last trading days\n",
        "  '''\n",
        "  how_many_rows=5\n",
        "  print(f'working with: {tick}')\n",
        "  df_test=df.query('ticker==@tick').sort_values(by='Date').reset_index(drop=True)\n",
        "  columns=[col.lower() for col in df_test.columns]\n",
        "  df_test.columns=columns\n",
        "\n",
        "  #pattern_name\n",
        "  for k,pattern_name in enumerate(all_patterns):\n",
        "\n",
        "    #if k>2:continue\n",
        "    #print(f'{k+1:>2}| {len(all_patterns)} | pattern_name: {pattern_name}')\n",
        "    ta_function=abstract.Function(pattern_name) #get the function name\n",
        "    try:\n",
        "        df_test[f'{pattern_name}'] = apply_ta_function(ta_function, df_test)\n",
        "    except Exception as e:\n",
        "        df_test[f'{pattern_name}']=0\n",
        "        # if \"inputs are all NaN\" in str(e):\n",
        "        #     print(f\"Warning: {pattern_name} for {tick} encountered NaN values. Skipping.\")\n",
        "        #     df_test[f'{pattern_name}'] = 0  # or another appropriate value like np.nan\n",
        "        # else:\n",
        "        #     raise e  # Re-raise other exceptions\n",
        "    #df_test[f'{pattern_name}']=apply_ta_function(ta_function,df_test)\n",
        "  # Handle NaN values in 'close' column\n",
        "  #df_test['close'] = df_test['close'].fillna(method='ffill')  # Forward fill NaN values\n",
        "  # Check if DataFrame is empty after filtering and NaN handling\n",
        "  if df_test.empty:\n",
        "    print(f\"Warning: DataFrame for {tick} is empty. Skipping SMA calculations.\")\n",
        "    return df_test  # Return the empty DataFrame\n",
        "\n",
        "  #other indicators\n",
        "  #print(f\"df_test: {df_test.to_string()}\")\n",
        "  df_test['SMA5']=talib.SMA(df_test['close'],timeperiod=5)\n",
        "  df_test['SMA10']=talib.SMA(df_test['close'],timeperiod=10)\n",
        "  df_test['SMA21']=talib.SMA(df_test['close'],timeperiod=21)\n",
        "  df_test['SMA50']=talib.SMA(df_test['close'],timeperiod=50)\n",
        "  df_test['SMA200']=talib.SMA(df_test['close'],timeperiod=200)\n",
        "  df_test['VOL20']=talib.SMA(df_test['volume'],timeperiod=20)\n",
        "  df_test['RSI']=talib.RSI(df_test['close'],timeperiod=14)\n",
        "  df_test['ATR']=abstract.ATR(df_test)\n",
        "\n",
        "  return df_test\n"
      ],
      "metadata": {
        "id": "C-JJKHtKjhy4"
      },
      "execution_count": null,
      "outputs": []
    },
    {
      "cell_type": "code",
      "source": [
        "#test df\n",
        "get_pattern_flag('TSLA')"
      ],
      "metadata": {
        "id": "RtN0gBU9kjPH"
      },
      "execution_count": null,
      "outputs": []
    },
    {
      "cell_type": "code",
      "source": [
        "#all dfs\n",
        "all_dfs=[get_pattern_flag(tick) for tick in all_tickers_list]\n",
        "all_dfs=pd.concat(all_dfs,ignore_index=True)"
      ],
      "metadata": {
        "id": "gvrDjoJ5k0uR"
      },
      "execution_count": null,
      "outputs": []
    },
    {
      "cell_type": "code",
      "source": [
        "#all dfs\n",
        "all_dfs"
      ],
      "metadata": {
        "id": "rAOEFb6Alcg_"
      },
      "execution_count": null,
      "outputs": []
    },
    {
      "cell_type": "code",
      "source": [
        "#get the last row values only\n",
        "df_date=all_dfs.sort_values(by='date',ascending=False,inplace=False)\n",
        "df_date=df_date.drop_duplicates(subset='ticker',keep='first').sort_values(by='ticker').reset_index(drop=True)\n",
        "#df_date.set_index('ticker',inplace=True)\n",
        "df_date"
      ],
      "metadata": {
        "id": "fU8wBnC9lXgE"
      },
      "execution_count": null,
      "outputs": []
    },
    {
      "cell_type": "code",
      "source": [
        "#patterns summary\n",
        "for pattern_name in all_patterns:\n",
        "  #print(pattern_name)\n",
        "  print(20*'--')\n",
        "  print(df_date[pattern_name].value_counts())\n",
        "  print()"
      ],
      "metadata": {
        "id": "jdZxCE8qlzAk"
      },
      "execution_count": null,
      "outputs": []
    },
    {
      "cell_type": "code",
      "source": [
        "def get_respective_pattern(temp_df,pattern_name):\n",
        "  '''\n",
        "  get related candlestick pattern of a given ticker\n",
        "  '''\n",
        "  ticker=temp_df['ticker'].values[0]\n",
        "  print(f'ticker: {ticker}')\n",
        "\n",
        "  #two plot columns one for a pattern  and second for 20 day plot\n",
        "  fig=make_subplots(rows=1,cols=2,subplot_titles=[f'TICKER: {ticker}',f'PATTERN: {pattern_name.removeprefix(\"CDL\")}'])\n",
        "\n",
        "  #main chart\n",
        "  main_chart= go.Candlestick(x=temp_df['date'],\n",
        "                  open=temp_df['open'],\n",
        "                  high=temp_df['high'],\n",
        "                  low=temp_df['low'],\n",
        "                  close=temp_df['close'])#])\n",
        "\n",
        "  #pattern chart\n",
        "  temp_df=temp_df.tail(5)\n",
        "  pattern_chart= go.Candlestick(x=temp_df['date'],\n",
        "                  open=temp_df['open'],\n",
        "                  high=temp_df['high'],\n",
        "                  low=temp_df['low'],\n",
        "                  close=temp_df['close'],name='1 YEAR CHART')#])\n",
        "\n",
        "  fig.add_trace(main_chart,row=1,col=1)\n",
        "  fig.add_trace(pattern_chart,row=1,col=2)\n",
        "  fig.update_layout(xaxis_rangeslider_visible=False,\n",
        "                    xaxis2_rangeslider_visible=False,\n",
        "                    xaxis=dict(domain=[0,0.75]),\n",
        "                    xaxis2=dict(domain=[0.77,1]),\n",
        "                    showlegend=False,\n",
        "                    yaxis_title='Price [$]',\n",
        "                    width=1400,\n",
        "                    height=500,\n",
        "                    title_x=0.5,\n",
        "\n",
        "                    )\n",
        "  rangebreaks=[\n",
        "        dict(bounds=[\"sat\", \"mon\"]), #hide weekends\n",
        "        dict(values=[\"2024-12-25\", \"2025-01-01\"])  # hide Christmas and New Year's\n",
        "    ]\n",
        "  fig.update_xaxes(rangebreaks=rangebreaks,row=1,col=1)\n",
        "  fig.update_xaxes(rangebreaks=rangebreaks,row=1,col=2)\n",
        "\n",
        "  return fig"
      ],
      "metadata": {
        "id": "ijzYCxZKmEgS"
      },
      "execution_count": null,
      "outputs": []
    },
    {
      "cell_type": "code",
      "source": [
        "#visualize pattern\n",
        "import time\n",
        "for k,pattern in enumerate(all_patterns):\n",
        "  if k>2:continue\n",
        "  pattern_df=df_date[df_date[pattern]!=0]\n",
        "  print(f'pattern: {pattern}')\n",
        "  #print(f'pattern_df: {pattern_df.to_string()}')\n",
        "  if len(pattern_df)>0:\n",
        "    for c,first_tick in enumerate(pattern_df['ticker'].values):\n",
        "      if c>5:continue\n",
        "      print(f'first_tick: {first_tick}')\n",
        "      #first_tick=pattern_df['ticker'].values[0]\n",
        "      #pattern_df.columns=[col.lower() for col in pattern_df.columns]\n",
        "      plot_df=df.query('ticker==@first_tick').sort_values(by='Date').reset_index(drop=True)\n",
        "      plot_df.columns=[col.lower() for col in plot_df.columns]\n",
        "      fig=get_respective_pattern(plot_df,pattern)\n",
        "      fig.show()\n",
        "      time.sleep(1)\n",
        "      #print(f\"test_tick: {first_tick}\")\n",
        "     #get_respective_pattern(df.query('ticker==@first_tick').sort_values(by='Date').reset_index(drop=True),pattern)"
      ],
      "metadata": {
        "id": "7vfrhtL5muUO"
      },
      "execution_count": null,
      "outputs": []
    },
    {
      "cell_type": "code",
      "source": [
        "#get patterns function\n",
        "def get_patterns_plot(all_patterns):\n",
        "  debug=True\n",
        "  for k,pattern in enumerate(all_patterns):\n",
        "    #if k>1:continue\n",
        "    pattern_df=df_date[df_date[pattern]!=0]\n",
        "    print(f'pattern: {pattern}')\n",
        "    #print(f'pattern_df: {pattern_df.to_string()}')\n",
        "    if len(pattern_df)>0:\n",
        "      for c,first_tick in enumerate(pattern_df['ticker'].values):\n",
        "        if debug:\n",
        "          if c>1:continue\n",
        "        print(f'first_tick: {first_tick}')\n",
        "        #first_tick=pattern_df['ticker'].values[0]\n",
        "        #pattern_df.columns=[col.lower() for col in pattern_df.columns]\n",
        "        plot_df=df.query('ticker==@first_tick').sort_values(by='Date').reset_index(drop=True)\n",
        "        plot_df.columns=[col.lower() for col in plot_df.columns]\n",
        "        fig=get_respective_pattern(plot_df,pattern)\n",
        "        fig.show()\n",
        "        time.sleep(1)"
      ],
      "metadata": {
        "id": "K_dpXQFiokoG"
      },
      "execution_count": null,
      "outputs": []
    },
    {
      "cell_type": "code",
      "source": [
        "all_patterns"
      ],
      "metadata": {
        "id": "EpINACBdmzWR"
      },
      "execution_count": null,
      "outputs": []
    },
    {
      "cell_type": "code",
      "source": [
        "doji_patterns=[i for i in all_patterns if 'DOJI' in i]\n",
        "doji_patterns"
      ],
      "metadata": {
        "id": "aUPxp_kPoI3N"
      },
      "execution_count": null,
      "outputs": []
    },
    {
      "cell_type": "code",
      "source": [
        "get_patterns_plot(doji_patterns)"
      ],
      "metadata": {
        "id": "O2FrYCoUnzwr"
      },
      "execution_count": null,
      "outputs": []
    },
    {
      "cell_type": "code",
      "source": [
        "bullish_patterns = [\n",
        "    'CDL2CROWS',\n",
        "    'CDL3WHITESOLDIERS',\n",
        "    'CDLBELTHOLD',\n",
        "    'CDLBREAKAWAY',\n",
        "    'CDLCLOSINGMARUBOZU',\n",
        "    'CDLENGULFING',\n",
        "    'CDLMORNINGSTAR',\n",
        "    'CDLPIERCING',\n",
        "    'CDLMATCHINGLOW',\n",
        "    'CDLRISEFALL3METHODS',\n",
        "    'CDLSTICKSANDWICH',\n",
        "    'CDLUPSIDEGAP2CROWS'\n",
        "]\n",
        "bullish_patterns"
      ],
      "metadata": {
        "id": "vtb7hlcqoU3o"
      },
      "execution_count": null,
      "outputs": []
    },
    {
      "cell_type": "code",
      "source": [
        "get_patterns_plot(bullish_patterns)"
      ],
      "metadata": {
        "id": "ryLOiyCYreP8"
      },
      "execution_count": null,
      "outputs": []
    },
    {
      "cell_type": "code",
      "source": [
        "bearish_patterns = [\n",
        "    'CDL3BLACKCROWS',\n",
        "    'CDL3INSIDE',\n",
        "    'CDL3LINESTRIKE',\n",
        "    'CDL3OUTSIDE',\n",
        "    'CDL3STARSINSOUTH',\n",
        "    'CDLABANDONEDBABY',\n",
        "    'CDLADVANCEBLOCK',\n",
        "    'CDLDOJI',\n",
        "    'CDLDOJISTAR',\n",
        "    'CDLDRAGONFLYDOJI',\n",
        "    'CDLEVENINGDOJISTAR',\n",
        "    'CDLEVENINGSTAR',\n",
        "    'CDLGAPSIDESIDEWHITE',\n",
        "    'CDLGRAVESTONEDOJI',\n",
        "    'CDLHANGINGMAN',\n",
        "    'CDLHARAMI',\n",
        "    'CDLHARAMICROSS',\n",
        "    'CDLHIGHWAVE',\n",
        "    'CDLIDENTICAL3CROWS',\n",
        "    'CDLINNECK',\n",
        "    'CDLINVERTEDHAMMER',\n",
        "    'CDLKICKING',\n",
        "    'CDLKICKINGBYLENGTH',\n",
        "    'CDLLONGLEGGEDDOJI',\n",
        "    'CDLLONGLINE',\n",
        "    'CDLMARUBOZU',\n",
        "    'CDLONNECK',\n",
        "    'CDLRICKSHAWMAN',\n",
        "    'CDLSEPARATINGLINES',\n",
        "    'CDLSHOOTINGSTAR',\n",
        "    'CDLSHORTLINE',\n",
        "    'CDLSPINNINGTOP',\n",
        "    'CDLSTALLEDPATTERN',\n",
        "    'CDLSTICKSANDWICH',\n",
        "    'CDLTAKURI',\n",
        "    'CDLTASUKIGAP',\n",
        "    'CDLTHRUSTING',\n",
        "    'CDLTRISTAR',\n",
        "    'CDLUNIQUE3RIVER',\n",
        "    'CDLXSIDEGAP3METHODS'\n",
        "]\n",
        "bearish_patterns"
      ],
      "metadata": {
        "id": "JKwyQ1lxrhYv"
      },
      "execution_count": null,
      "outputs": []
    },
    {
      "cell_type": "code",
      "source": [
        "get_patterns_plot(bearish_patterns)"
      ],
      "metadata": {
        "id": "jIDIY0u6sG7N"
      },
      "execution_count": null,
      "outputs": []
    },
    {
      "cell_type": "code",
      "source": [
        "dic1={\n",
        "    \"CDL2CROWS\": {\n",
        "        \"pattern\": \"Two Crows\",\n",
        "        \"type\": \"Bearish Reversal\",\n",
        "        \"description\": \"A bearish reversal pattern consisting of two consecutive black candles, where the second candle opens higher and closes lower, signaling a downtrend.\"\n",
        "    },\n",
        "    \"CDL3BLACKCROWS\": {\n",
        "        \"pattern\": \"Three Black Crows\",\n",
        "        \"type\": \"Bearish Reversal\",\n",
        "        \"description\": \"A strong bearish reversal pattern with three consecutive long black candles, each closing lower than the previous one.\"\n",
        "    },\n",
        "    \"CDL3INSIDE\": {\n",
        "        \"pattern\": \"Three Inside Up/Down\",\n",
        "        \"type\": \"Reversal\",\n",
        "        \"description\": \"A reversal pattern where the first candle is large, the second is contained within the first, and the third confirms the trend reversal.\"\n",
        "    },\n",
        "    \"CDL3LINESTRIKE\": {\n",
        "        \"pattern\": \"Three-Line Strike\",\n",
        "        \"type\": \"Continuation\",\n",
        "        \"description\": \"A pattern with three candles in the same direction, followed by a large opposite candle engulfing them, indicating a potential reversal.\"\n",
        "    },\n",
        "    \"CDL3OUTSIDE\": {\n",
        "        \"pattern\": \"Three Outside Up/Down\",\n",
        "        \"type\": \"Reversal\",\n",
        "        \"description\": \"A pattern with three candles, the first small, the second engulfing the first, and the third confirming the trend reversal.\"\n",
        "    },\n",
        "    \"CDL3STARSINSOUTH\": {\n",
        "        \"pattern\": \"Three Stars in the South\",\n",
        "        \"type\": \"Bullish Reversal\",\n",
        "        \"description\": \"A bullish reversal pattern with three small candles that form below the previous trend, signaling a potential reversal.\"\n",
        "    },\n",
        "    \"CDL3WHITESOLDIERS\": {\n",
        "        \"pattern\": \"Three Advancing White Soldiers\",\n",
        "        \"type\": \"Bullish Reversal\",\n",
        "        \"description\": \"A bullish pattern with three consecutive long white candles indicating strong upward momentum.\"\n",
        "    },\n",
        "    \"CDLABANDONEDBABY\": {\n",
        "        \"pattern\": \"Abandoned Baby\",\n",
        "        \"type\": \"Reversal\",\n",
        "        \"description\": \"A reversal pattern with three candles: a large candle, followed by a small gap, and a third candle in the opposite direction, signaling a trend reversal.\"\n",
        "    },\n",
        "    \"CDLADVANCEBLOCK\": {\n",
        "        \"pattern\": \"Advance Block\",\n",
        "        \"type\": \"Bearish Continuation\",\n",
        "        \"description\": \"A bearish continuation pattern where three white candles appear, but the third is smaller than the previous two, signaling a weakening trend.\"\n",
        "    },\n",
        "    \"CDLBELTHOLD\": {\n",
        "        \"pattern\": \"Belt-hold\",\n",
        "        \"type\": \"Continuation\",\n",
        "        \"description\": \"A single candle pattern where the candle opens at the low (bullish) or high (bearish) and closes near the opposite end, indicating a continuation of the trend.\"\n",
        "    },\n",
        "    \"CDLBREAKAWAY\": {\n",
        "        \"pattern\": \"Breakaway\",\n",
        "        \"type\": \"Reversal\",\n",
        "        \"description\": \"A reversal pattern consisting of five candles: an initial trend, a gap, and three candles confirming the trend reversal.\"\n",
        "    },\n",
        "    \"CDLCLOSINGMARUBOZU\": {\n",
        "        \"pattern\": \"Closing Marubozu\",\n",
        "        \"type\": \"Reversal or Continuation\",\n",
        "        \"description\": \"A single candlestick pattern where the price opens and closes at the extremes, without shadows, indicating a strong trend continuation or reversal.\"\n",
        "    },\n",
        "    \"CDLCONCEALBABYSWALL\": {\n",
        "        \"pattern\": \"Concealing Baby Swallow\",\n",
        "        \"type\": \"Reversal\",\n",
        "        \"description\": \"A reversal pattern where a smaller candlestick is engulfed by a larger opposite candlestick, with a small gap between them.\"\n",
        "    },\n",
        "    \"CDLCOUNTERATTACK\": {\n",
        "        \"pattern\": \"Counterattack\",\n",
        "        \"type\": \"Reversal\",\n",
        "        \"description\": \"A reversal pattern where a candlestick is followed by a large opposite candle that reverses the initial move, indicating a shift in momentum.\"\n",
        "    },\n",
        "    \"CDLDARKCLOUDCOVER\": {\n",
        "        \"pattern\": \"Dark Cloud Cover\",\n",
        "        \"type\": \"Bearish Reversal\",\n",
        "        \"description\": \"A bearish reversal pattern where the second candle opens above the first one and closes below its midpoint, signaling a potential downtrend.\"\n",
        "    },\n",
        "    \"CDLDOJI\": {\n",
        "        \"pattern\": \"Doji\",\n",
        "        \"type\": \"Indecision\",\n",
        "        \"description\": \"A candlestick with a small body and long shadows, indicating indecision in the market and potential for a reversal after a strong trend.\"\n",
        "    },\n",
        "    \"CDLDOJISTAR\": {\n",
        "        \"pattern\": \"Doji Star\",\n",
        "        \"type\": \"Reversal\",\n",
        "        \"description\": \"A reversal pattern consisting of a Doji followed by a large opposite candle, signaling a potential trend reversal.\"\n",
        "    },\n",
        "    \"CDLDRAGONFLYDOJI\": {\n",
        "        \"pattern\": \"Dragonfly Doji\",\n",
        "        \"type\": \"Bullish Reversal\",\n",
        "        \"description\": \"A Doji with a long lower shadow and no upper shadow, indicating a potential bullish reversal after a downtrend.\"\n",
        "    },\n",
        "    \"CDLENGULFING\": {\n",
        "        \"pattern\": \"Engulfing Pattern\",\n",
        "        \"type\": \"Reversal\",\n",
        "        \"description\": \"A reversal pattern where a small candle is followed by a larger candle that completely engulfs the previous one, signaling a change in trend.\"\n",
        "    },\n",
        "    \"CDLEVENINGDOJISTAR\": {\n",
        "        \"pattern\": \"Evening Doji Star\",\n",
        "        \"type\": \"Bearish Reversal\",\n",
        "        \"description\": \"A bearish reversal pattern consisting of a Doji followed by a large bearish candle, signaling a potential reversal from an uptrend to a downtrend.\"\n",
        "    },\n",
        "    \"CDLEVENINGSTAR\": {\n",
        "        \"pattern\": \"Evening Star\",\n",
        "        \"type\": \"Bearish Reversal\",\n",
        "        \"description\": \"A bearish reversal pattern consisting of three candles: a large bullish candle, followed by a small-bodied candle, and a large bearish candle.\"\n",
        "    },\n",
        "    \"CDLGAPSIDESIDEWHITE\": {\n",
        "        \"pattern\": \"Up/Down-gap side-by-side white lines\",\n",
        "        \"type\": \"Bullish Continuation\",\n",
        "        \"description\": \"A pattern with two consecutive white candles separated by a gap, suggesting strong bullish momentum.\"\n",
        "    },\n",
        "    \"CDLGRAVESTONEDOJI\": {\n",
        "        \"pattern\": \"Gravestone Doji\",\n",
        "        \"type\": \"Bearish Reversal\",\n",
        "        \"description\": \"A Doji with a long upper shadow and little or no lower shadow, signaling a potential reversal from bullish to bearish.\"\n",
        "    },\n",
        "    \"CDLHAMMER\": {\n",
        "        \"pattern\": \"Hammer\",\n",
        "        \"type\": \"Bullish Reversal\",\n",
        "        \"description\": \"A candlestick with a small body near the top, a long lower shadow, and little or no upper shadow, indicating a potential reversal from a downtrend.\"\n",
        "    },\n",
        "    \"CDLHANGINGMAN\": {\n",
        "        \"pattern\": \"Hanging Man\",\n",
        "        \"type\": \"Bearish Reversal\",\n",
        "        \"description\": \"Similar to the Hammer but occurring after an uptrend, indicating a potential reversal from bullish to bearish.\"\n",
        "    }\n",
        "}\n"
      ],
      "metadata": {
        "id": "2auufs5MvfZu"
      },
      "execution_count": null,
      "outputs": []
    },
    {
      "cell_type": "code",
      "source": [
        "dict2={\n",
        "    \"CDLHARAMI\": {\n",
        "        \"pattern\": \"Harami Pattern\",\n",
        "        \"type\": \"Reversal\",\n",
        "        \"description\": \"A reversal pattern consisting of a small candle fully contained within the body of a larger candle, signaling a possible trend reversal.\"\n",
        "    },\n",
        "    \"CDLHARAMICROSS\": {\n",
        "        \"pattern\": \"Harami Cross Pattern\",\n",
        "        \"type\": \"Reversal\",\n",
        "        \"description\": \"A Harami pattern where the second candle is a Doji, indicating indecision in the market and a potential trend reversal.\"\n",
        "    },\n",
        "    \"CDLHIGHWAVE\": {\n",
        "        \"pattern\": \"High-Wave Candle\",\n",
        "        \"type\": \"Indecision\",\n",
        "        \"description\": \"A candle with a small body and long upper and lower shadows, indicating indecision in the market, and often signaling a potential reversal.\"\n",
        "    },\n",
        "    \"CDLHIKKAKE\": {\n",
        "        \"pattern\": \"Hikkake Pattern\",\n",
        "        \"type\": \"Reversal\",\n",
        "        \"description\": \"A pattern where the price moves in the direction opposite to the prevailing trend before quickly reversing, signaling a potential reversal.\"\n",
        "    },\n",
        "    \"CDLHIKKAKEMOD\": {\n",
        "        \"pattern\": \"Modified Hikkake Pattern\",\n",
        "        \"type\": \"Reversal\",\n",
        "        \"description\": \"A modified version of the Hikkake pattern that is typically more reliable in signaling a reversal.\"\n",
        "    },\n",
        "    \"CDLHOMINGPIGEON\": {\n",
        "        \"pattern\": \"Homing Pigeon\",\n",
        "        \"type\": \"Reversal\",\n",
        "        \"description\": \"A bullish reversal pattern where the second candle opens and closes within the body of the first, signaling a reversal from a downtrend.\"\n",
        "    },\n",
        "    \"CDLIDENTICAL3CROWS\": {\n",
        "        \"pattern\": \"Identical Three Crows\",\n",
        "        \"type\": \"Bearish Reversal\",\n",
        "        \"description\": \"A bearish reversal pattern consisting of three consecutive black candles of the same size, indicating a strong downtrend.\"\n",
        "    },\n",
        "    \"CDLINNECK\": {\n",
        "        \"pattern\": \"In-Neck Pattern\",\n",
        "        \"type\": \"Bearish Reversal\",\n",
        "        \"description\": \"A bearish pattern where the second candle opens at or near the close of the first candle, and the close of the second is just below the close of the first.\"\n",
        "    },\n",
        "    \"CDLINVERTEDHAMMER\": {\n",
        "        \"pattern\": \"Inverted Hammer\",\n",
        "        \"type\": \"Bullish Reversal\",\n",
        "        \"description\": \"A candlestick with a small body near the bottom and a long upper shadow, indicating a potential reversal after a downtrend.\"\n",
        "    },\n",
        "    \"CDLKICKING\": {\n",
        "        \"pattern\": \"Kicking\",\n",
        "        \"type\": \"Reversal\",\n",
        "        \"description\": \"A pattern where two candles, one bullish and one bearish, completely engulf each other, signaling a trend reversal.\"\n",
        "    },\n",
        "    \"CDLKICKINGBYLENGTH\": {\n",
        "        \"pattern\": \"Kicking - Bull/Bear determined by the longer Marubozu\",\n",
        "        \"type\": \"Reversal\",\n",
        "        \"description\": \"A variation of the Kicking pattern where the strength of the reversal is determined by the length of the Marubozu candles.\"\n",
        "    },\n",
        "    \"CDLLADDERBOTTOM\": {\n",
        "        \"pattern\": \"Ladder Bottom\",\n",
        "        \"type\": \"Bullish Reversal\",\n",
        "        \"description\": \"A bullish reversal pattern with three consecutive candles: the first is bearish, followed by two bullish candles of increasing size.\"\n",
        "    },\n",
        "    \"CDLLONGLEGGEDDOJI\": {\n",
        "        \"pattern\": \"Long Legged Doji\",\n",
        "        \"type\": \"Indecision\",\n",
        "        \"description\": \"A Doji with long upper and lower shadows, indicating significant market indecision, which could signal a reversal.\"\n",
        "    },\n",
        "    \"CDLLONGLINE\": {\n",
        "        \"pattern\": \"Long Line Candle\",\n",
        "        \"type\": \"Trend Continuation\",\n",
        "        \"description\": \"A candle with a long body, indicating strong market momentum and often confirming a continuation of the trend.\"\n",
        "    },\n",
        "    \"CDLMARUBOZU\": {\n",
        "        \"pattern\": \"Marubozu\",\n",
        "        \"type\": \"Trend Continuation\",\n",
        "        \"description\": \"A candlestick with no shadows and a long body, indicating strong bullish or bearish sentiment.\"\n",
        "    },\n",
        "    \"CDLMATCHINGLOW\": {\n",
        "        \"pattern\": \"Matching Low\",\n",
        "        \"type\": \"Bullish Reversal\",\n",
        "        \"description\": \"A bullish reversal pattern where two consecutive candles have the same low, signaling potential support at that level.\"\n",
        "    },\n",
        "    \"CDLMATHOLD\": {\n",
        "        \"pattern\": \"Mat Hold\",\n",
        "        \"type\": \"Bullish Continuation\",\n",
        "        \"description\": \"A bullish continuation pattern where a large bullish candle is followed by a consolidation pattern, and then the trend continues.\"\n",
        "    },\n",
        "    \"CDLMORNINGDOJISTAR\": {\n",
        "        \"pattern\": \"Morning Doji Star\",\n",
        "        \"type\": \"Bullish Reversal\",\n",
        "        \"description\": \"A bullish reversal pattern with a Doji star in the middle, indicating the potential for a trend reversal from bearish to bullish.\"\n",
        "    },\n",
        "    \"CDLMORNINGSTAR\": {\n",
        "        \"pattern\": \"Morning Star\",\n",
        "        \"type\": \"Bullish Reversal\",\n",
        "        \"description\": \"A bullish reversal pattern consisting of three candles: a large bearish candle, followed by a small-bodied candle, and a large bullish candle.\"\n",
        "    },\n",
        "    \"CDLONNECK\": {\n",
        "        \"pattern\": \"On-Neck Pattern\",\n",
        "        \"type\": \"Bearish Reversal\",\n",
        "        \"description\": \"A bearish pattern where the second candle closes slightly below the low of the first candle, signaling a potential reversal.\"\n",
        "    },\n",
        "    \"CDLPIERCING\": {\n",
        "        \"pattern\": \"Piercing Pattern\",\n",
        "        \"type\": \"Bullish Reversal\",\n",
        "        \"description\": \"A bullish reversal pattern where the second candle opens below the low of the first candle and closes above its midpoint, signaling a trend reversal.\"\n",
        "    },\n",
        "    \"CDLRICKSHAWMAN\": {\n",
        "        \"pattern\": \"Rickshaw Man\",\n",
        "        \"type\": \"Indecision\",\n",
        "        \"description\": \"A candlestick with a small body in the middle and long upper and lower shadows, indicating indecision in the market.\"\n",
        "    },\n",
        "    \"CDLRISEFALL3METHODS\": {\n",
        "        \"pattern\": \"Rising/Falling Three Methods\",\n",
        "        \"type\": \"Trend Continuation\",\n",
        "        \"description\": \"A continuation pattern where three small candles are contained within the range of a larger bullish (rising) or bearish (falling) candle.\"\n",
        "    },\n",
        "    \"CDLSEPARATINGLINES\": {\n",
        "        \"pattern\": \"Separating Lines\",\n",
        "        \"type\": \"Reversal\",\n",
        "        \"description\": \"A pattern where two candles have opposite colors but are separated by a small gap, indicating a potential reversal.\"\n",
        "    },\n",
        "    \"CDLSHOOTINGSTAR\": {\n",
        "        \"pattern\": \"Shooting Star\",\n",
        "        \"type\": \"Bearish Reversal\",\n",
        "        \"description\": \"A bearish reversal pattern with a small body near the bottom, a long upper shadow, and little or no lower shadow.\"\n",
        "    },\n",
        "    \"CDLSHORTLINE\": {\n",
        "        \"pattern\": \"Short Line Candle\",\n",
        "        \"type\": \"Indecision\",\n",
        "        \"description\": \"A small-bodied candle with small or no shadows, indicating indecision in the market.\"\n",
        "    },\n",
        "    \"CDLSPINNINGTOP\": {\n",
        "        \"pattern\": \"Spinning Top\",\n",
        "        \"type\": \"Indecision\",\n",
        "        \"description\": \"A candlestick with a small body and long shadows, indicating indecision in the market and potential for a reversal.\"\n",
        "    },\n",
        "    \"CDLSTALLEDPATTERN\": {\n",
        "        \"pattern\": \"Stalled Pattern\",\n",
        "        \"type\": \"Indecision\",\n",
        "        \"description\": \"A pattern where the market pauses after a strong trend, suggesting that the trend may be losing strength.\"\n",
        "    },\n",
        "    \"CDLSTICKSANDWICH\": {\n",
        "        \"pattern\": \"Stick Sandwich\",\n",
        "        \"type\": \"Reversal\",\n",
        "        \"description\": \"A reversal pattern with three candles: a large bearish candle, followed by a small bullish candle, and a large bearish candle again.\"\n",
        "    },\n",
        "    \"CDLTAKURI\": {\n",
        "        \"pattern\": \"Takuri (Dragonfly Doji with very long lower shadow)\",\n",
        "        \"type\": \"Bullish Reversal\",\n",
        "        \"description\": \"A variation of the Dragonfly Doji with an exceptionally long lower shadow, signaling a strong reversal after a downtrend.\"\n",
        "    },\n",
        "    \"CDLTASUKIGAP\": {\n",
        "        \"pattern\": \"Tasuki Gap\",\n",
        "        \"type\": \"Bullish Continuation\",\n",
        "        \"description\": \"A continuation pattern where a bullish gap is followed by a bearish candle that partially fills the gap, indicating continuation.\"\n",
        "    },\n",
        "    \"CDLTHRUSTING\": {\n",
        "        \"pattern\": \"Thrusting Pattern\",\n",
        "        \"type\": \"Reversal\",\n",
        "        \"description\": \"A reversal pattern where the second candle opens at or near the close of the first candle but doesn't quite close above it, signaling a trend reversal.\"\n",
        "    },\n",
        "    \"CDLTRISTAR\": {\n",
        "        \"pattern\": \"Tristar Pattern\",\n",
        "        \"type\": \"Reversal\",\n",
        "        \"description\": \"A reversal pattern formed by three candles: one large candle, followed by two smaller candles, signaling a potential reversal.\"\n",
        "    },\n",
        "    \"CDLUNIQUE3RIVER\": {\n",
        "        \"pattern\": \"Unique 3 River\",\n",
        "        \"type\": \"Bullish Reversal\",\n",
        "        \"description\": \"A bullish reversal pattern with three candles: the first is a bearish candle, followed by a smaller bullish candle, and the third confirms the reversal.\"\n",
        "    },\n",
        "    \"CDLUPSIDEGAP2CROWS\": {\n",
        "        \"pattern\": \"Upside Gap Two Crows\",\n",
        "        \"type\": \"Bearish Reversal\",\n",
        "        \"description\": \"A bearish reversal pattern consisting of two consecutive black candles with an upside gap between them.\"\n",
        "    },\n",
        "    \"CDLXSIDEGAP3METHODS\": {\n",
        "        \"pattern\": \"Upside/Downside Gap Three Method\",\n",
        "        \"type\": \"Trend Continuation\",\n",
        "        \"description\": \"A continuation pattern with three small candles formed within the gap of the first large candle, signaling the continuation of the trend.\"\n",
        "    }\n",
        "}\n"
      ],
      "metadata": {
        "id": "4i32WvohzNgm"
      },
      "execution_count": null,
      "outputs": []
    },
    {
      "cell_type": "code",
      "source": [
        "len(list(dic1.keys()))+len(list(dict2.keys()))"
      ],
      "metadata": {
        "id": "FSH9GufPyuDc"
      },
      "execution_count": null,
      "outputs": []
    },
    {
      "cell_type": "code",
      "source": [
        "final_information_dict={**dic1,**dict2}"
      ],
      "metadata": {
        "id": "u1KJzHV2yukm"
      },
      "execution_count": null,
      "outputs": []
    },
    {
      "cell_type": "code",
      "source": [
        "info_dict=pd.DataFrame(final_information_dict).T"
      ],
      "metadata": {
        "id": "-ed9WMyAzbIL"
      },
      "execution_count": null,
      "outputs": []
    },
    {
      "cell_type": "code",
      "source": [
        "info_dict"
      ],
      "metadata": {
        "id": "sLGoDBrM0eoP"
      },
      "execution_count": null,
      "outputs": []
    },
    {
      "cell_type": "code",
      "source": [
        "# info_dict=info_dict.reset_index().rename(columns={'index':'pattern_name'})\n",
        "# info_dict"
      ],
      "metadata": {
        "id": "4XQpNaZImHu9"
      },
      "execution_count": null,
      "outputs": []
    },
    {
      "cell_type": "code",
      "source": [
        "col_name=[x for x in df_date.columns if 'CDL' in x]\n",
        "col_name"
      ],
      "metadata": {
        "id": "lVXUq3nm1zBW"
      },
      "execution_count": null,
      "outputs": []
    },
    {
      "cell_type": "code",
      "source": [
        "for k,c in enumerate(col_name):\n",
        "  if c in info_dict.index:\n",
        "    print(f'{k+1:0>2}|{len(col_name)} Information exists for {c}')\n",
        "  else:\n",
        "    print(f'Information does not exist for {c}')\n",
        "    time.sleep(3)"
      ],
      "metadata": {
        "id": "JauWsgem3i8P"
      },
      "execution_count": null,
      "outputs": []
    },
    {
      "cell_type": "code",
      "source": [
        "#renaming for saving\n",
        "\n",
        "info_dict=info_dict.reset_index().rename(columns={'index':'pattern_name'})\n",
        "info_dict"
      ],
      "metadata": {
        "id": "PirlTAWzkMqc"
      },
      "execution_count": null,
      "outputs": []
    },
    {
      "cell_type": "code",
      "source": [
        "# importing the files to get the list of snp500, nasdaq100,snp500,nasdaqipo\n",
        "df_snp500=root_path/'snp_today/df_snp500.csv'\n",
        "df_dow_30=root_path/'snp_today/df_dow.csv'\n",
        "df_nasdaq100=root_path/'snp_today/df_nasdaq100.csv'\n",
        "df_nasdaqipo=root_path/'snp_today/df_nasdaqipo.csv'\n",
        "\n",
        "#list of tickers\n",
        "\n",
        "snp_500_list=pd.read_csv(df_snp500)['ticker'].to_list()\n",
        "dow_30_list=pd.read_csv(df_dow_30)['ticker'].to_list()\n",
        "nasdaq100_list=pd.read_csv(df_nasdaq100)['ticker'].to_list()\n",
        "nasdaq_ipo_list=pd.read_csv(df_nasdaqipo)['ticker'].to_list()\n",
        "\n",
        "#pattern dataframes\n",
        "\n",
        "df_snp_pattern=df_date[df_date['ticker'].isin(snp_500_list)].round(2)\n",
        "df_dow_pattern=df_date[df_date['ticker'].isin(dow_30_list)].round(2)\n",
        "df_nasdaq100_pattern=df_date[df_date['ticker'].isin(nasdaq100_list)].round(2)\n",
        "df_nasdaqipo_pattern=df_date[df_date['ticker'].isin(nasdaq_ipo_list)].round(2)\n",
        "\n",
        "#df_snp_pattern,df_dow_pattern,df_nasdaq100_pattern,df_nasdaqipo_pattern"
      ],
      "metadata": {
        "id": "HeupFsEqHGtu"
      },
      "execution_count": null,
      "outputs": []
    },
    {
      "cell_type": "code",
      "source": [
        "#current working directory\n",
        "! pwd  #it was becuase moved into ta-lib directory during the installation of that package\n"
      ],
      "metadata": {
        "id": "fGwbgaq4BMcK"
      },
      "execution_count": null,
      "outputs": []
    },
    {
      "cell_type": "code",
      "source": [
        "ta_path_dir='/content/ta-lib/'\n",
        "ta_path_dir"
      ],
      "metadata": {
        "id": "KytLBorZFQbr"
      },
      "execution_count": null,
      "outputs": []
    },
    {
      "cell_type": "code",
      "source": [
        "! ls $ta_path_dir"
      ],
      "metadata": {
        "id": "ZUceYvyLENK9"
      },
      "execution_count": null,
      "outputs": []
    },
    {
      "cell_type": "code",
      "source": [
        "# #come back to root dir\n",
        "# %cd ~\n",
        "# !ls ta-lib/candlesstick_patterns\n"
      ],
      "metadata": {
        "id": "u2A_DDP6BXyp"
      },
      "execution_count": null,
      "outputs": []
    },
    {
      "cell_type": "code",
      "source": [
        "# #saving dataframes into csv files\n",
        "# df_date.to_csv('patterns.csv')\n",
        "# info_dict.to_csv('info_dict.csv')"
      ],
      "metadata": {
        "id": "8N6bgGhJ4J1j"
      },
      "execution_count": null,
      "outputs": []
    },
    {
      "cell_type": "markdown",
      "source": [
        "#  PUSHING TO GIT HUB"
      ],
      "metadata": {
        "id": "rP9akQu85vRC"
      }
    },
    {
      "cell_type": "code",
      "source": [
        "#This is needed to push the changes to the main branch\n",
        "! git config --global user.email \"bhattathakur2015@gmail.com.com\"\n",
        "! git config --global user.name \"bhattathakur\""
      ],
      "metadata": {
        "id": "rgGRcF4p56T2"
      },
      "execution_count": null,
      "outputs": []
    },
    {
      "cell_type": "code",
      "source": [
        "#get token\n",
        "githubtoken=userdata.get('githubtoken')"
      ],
      "metadata": {
        "id": "NOj5-ec76TAh"
      },
      "execution_count": null,
      "outputs": []
    },
    {
      "cell_type": "code",
      "source": [
        "token = githubtoken #\n",
        "user_name=\"bhattathakur\"\n",
        "git_repo=\"candlestick_patterns\""
      ],
      "metadata": {
        "id": "-cZj6uwL6XmK"
      },
      "execution_count": null,
      "outputs": []
    },
    {
      "cell_type": "code",
      "source": [],
      "metadata": {
        "id": "6m_o1hWtE7vj"
      },
      "execution_count": null,
      "outputs": []
    },
    {
      "cell_type": "code",
      "source": [
        "! git clone https://{token}@github.com/{user_name}/{git_repo}"
      ],
      "metadata": {
        "id": "ZkQYkwIT6sHf"
      },
      "execution_count": null,
      "outputs": []
    },
    {
      "cell_type": "code",
      "source": [],
      "metadata": {
        "id": "qI63dp_d6wa5"
      },
      "execution_count": null,
      "outputs": []
    },
    {
      "cell_type": "code",
      "source": [
        "#git repo path\n",
        "git_repo_path=f'{git_repo}/'\n",
        "print(f'{git_repo_path}')"
      ],
      "metadata": {
        "id": "OeMSQYUv7Hw2"
      },
      "execution_count": null,
      "outputs": []
    },
    {
      "cell_type": "code",
      "source": [
        "#content\n",
        "!ls \"{git_repo_path}\""
      ],
      "metadata": {
        "id": "i7xWCDW-7OMV"
      },
      "execution_count": null,
      "outputs": []
    },
    {
      "cell_type": "code",
      "source": [
        "#saving dataframes into csv files\n",
        "\n",
        "df.to_csv(f'{git_repo_path}/df_combined.csv',index=False)\n",
        "info_dict.to_csv(f'{git_repo_path}/info_dict.csv',index=False)\n",
        "df_snp_pattern.to_csv(f'{git_repo_path}/df_snp_pattern.csv',index=False)\n",
        "df_dow_pattern.to_csv(f'{git_repo_path}/df_dow_pattern.csv',index=False)\n",
        "df_nasdaq100_pattern.to_csv(f'{git_repo_path}/df_nasdaq100_pattern.csv',index=False)\n",
        "df_nasdaqipo_pattern.to_csv(f'{git_repo_path}/df_nasdaqipo_pattern.csv',index=False)"
      ],
      "metadata": {
        "id": "mbQO0jX9GXDp"
      },
      "execution_count": null,
      "outputs": []
    },
    {
      "cell_type": "code",
      "source": [
        "#! cd \"{git_repo_path}\""
      ],
      "metadata": {
        "id": "7yLobqc37XKM"
      },
      "execution_count": null,
      "outputs": []
    },
    {
      "cell_type": "code",
      "source": [
        "#content\n",
        "!ls \"{git_repo_path}\""
      ],
      "metadata": {
        "id": "v5lLWhE38xcD"
      },
      "execution_count": null,
      "outputs": []
    },
    {
      "cell_type": "code",
      "source": [
        "print(git_repo_path)"
      ],
      "metadata": {
        "id": "Ilf5i5KON6Dm"
      },
      "execution_count": null,
      "outputs": []
    },
    {
      "cell_type": "code",
      "source": [
        "import datetime"
      ],
      "metadata": {
        "id": "qA9O1XupPm4H"
      },
      "execution_count": null,
      "outputs": []
    },
    {
      "cell_type": "code",
      "source": [
        "status_text=f'{git_repo_path} modfied on {datetime.datetime.now()}'\n",
        "print(status_text)"
      ],
      "metadata": {
        "id": "K31CssmWPelM"
      },
      "execution_count": null,
      "outputs": []
    },
    {
      "cell_type": "code",
      "source": [
        "current_dir=!pwd\n"
      ],
      "metadata": {
        "id": "2LZitMiJMh_f"
      },
      "execution_count": null,
      "outputs": []
    },
    {
      "cell_type": "code",
      "source": [
        "%cd \"{git_repo_path}\"\n",
        "! git status\n",
        "! git add .\n",
        "! git commit -m \"{status_text}\"\n",
        "! git push\n",
        "! git status\n",
        "%cd \"{current_dir[0]}\""
      ],
      "metadata": {
        "id": "QWRkaAHTPI71"
      },
      "execution_count": null,
      "outputs": []
    },
    {
      "cell_type": "code",
      "source": [
        "print(f'Done at {datetime.datetime.now()}')"
      ],
      "metadata": {
        "id": "fFZt18EaM1ko"
      },
      "execution_count": null,
      "outputs": []
    },
    {
      "cell_type": "code",
      "source": [
        "! ls"
      ],
      "metadata": {
        "id": "WKo8_VszOUsa"
      },
      "execution_count": null,
      "outputs": []
    },
    {
      "cell_type": "code",
      "source": [],
      "metadata": {
        "id": "z0CxsRpXOSew"
      },
      "execution_count": null,
      "outputs": []
    }
  ]
}